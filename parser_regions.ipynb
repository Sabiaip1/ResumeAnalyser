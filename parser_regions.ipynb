{
  "nbformat": 4,
  "nbformat_minor": 0,
  "metadata": {
    "colab": {
      "provenance": []
    },
    "kernelspec": {
      "name": "python3",
      "display_name": "Python 3"
    },
    "language_info": {
      "name": "python"
    }
  },
  "cells": [
    {
      "cell_type": "code",
      "source": [
        "### Парсер с вакансий с сайта HH.RU"
      ],
      "metadata": {
        "id": "ijdqk-zGlfh9"
      },
      "execution_count": 6,
      "outputs": []
    },
    {
      "cell_type": "markdown",
      "source": [
        "API hh.ru ограничивает запросы до 2000 записей на один фильтр, поэтому перебираем регионы и текстовые запросы, чтобы увеличить объем данных.\n",
        "Я беру города-миллионники России за короткий период (2-3 месяца)\n",
        "Расширить справочник можно добавив новые города areas API hh.ru"
      ],
      "metadata": {
        "id": "ET1DmDgolxhC"
      }
    },
    {
      "cell_type": "code",
      "execution_count": 1,
      "metadata": {
        "colab": {
          "base_uri": "https://localhost:8080/"
        },
        "id": "QzzIL1kBs6dX",
        "outputId": "272f8336-a707-4a95-f471-77e15fcb81a4"
      },
      "outputs": [
        {
          "output_type": "stream",
          "name": "stdout",
          "text": [
            "Сохранен файл: /content/parser_hh/0.json (Город ID: 1, Страница: 0)\n",
            "Сохранен файл: /content/parser_hh/1.json (Город ID: 1, Страница: 1)\n",
            "Сохранен файл: /content/parser_hh/2.json (Город ID: 1, Страница: 2)\n",
            "Сохранен файл: /content/parser_hh/3.json (Город ID: 1, Страница: 3)\n",
            "Сохранен файл: /content/parser_hh/4.json (Город ID: 1, Страница: 4)\n",
            "Сохранен файл: /content/parser_hh/5.json (Город ID: 1, Страница: 5)\n",
            "Сохранен файл: /content/parser_hh/6.json (Город ID: 1, Страница: 6)\n",
            "Сохранен файл: /content/parser_hh/7.json (Город ID: 1, Страница: 7)\n",
            "Сохранен файл: /content/parser_hh/8.json (Город ID: 2, Страница: 0)\n",
            "Сохранен файл: /content/parser_hh/9.json (Город ID: 2, Страница: 1)\n",
            "Сохранен файл: /content/parser_hh/10.json (Город ID: 1207, Страница: 0)\n",
            "Сохранен файл: /content/parser_hh/11.json (Город ID: 4, Страница: 0)\n",
            "Сохранен файл: /content/parser_hh/12.json (Город ID: 5, Страница: 0)\n",
            "Сохранен файл: /content/parser_hh/13.json (Город ID: 6, Страница: 0)\n",
            "Сохранен файл: /content/parser_hh/14.json (Город ID: 7, Страница: 0)\n",
            "Сохранен файл: /content/parser_hh/15.json (Город ID: 10, Страница: 0)\n",
            "Сохранен файл: /content/parser_hh/16.json (Город ID: 13, Страница: 0)\n",
            "Сохранен файл: /content/parser_hh/17.json (Город ID: 99, Страница: 0)\n",
            "Сохранен файл: /content/parser_hh/18.json (Город ID: 72, Страница: 0)\n",
            "Собрано 1900 записей!\n"
          ]
        }
      ],
      "source": [
        "import requests\n",
        "import json\n",
        "import time\n",
        "import os\n",
        "from datetime import datetime, timedelta\n",
        "\n",
        "def getPages(page=0, area=1, date_from=None, date_to=None):\n",
        "    \"\"\"Функция для получения страницы вакансий.\"\"\"\n",
        "    params = {\n",
        "        'text': 'data engineer',  # Поисковый запрос (можно адаптировать)\n",
        "        'area': area,            # Регион\n",
        "        'page': page,            # Номер страницы\n",
        "        'per_page': 100,         # Количество вакансий на странице\n",
        "        'date_from': date_from,  # Дата начала\n",
        "        'date_to': date_to       # Дата окончания\n",
        "    }\n",
        "\n",
        "    response = requests.get('https://api.hh.ru/vacancies', params=params)\n",
        "    if response.status_code != 200:\n",
        "        print(f\"Ошибка: {response.status_code}\")\n",
        "        return None\n",
        "\n",
        "    return response.json()\n",
        "\n",
        "# Города-миллионники России (ID регионов из API hh.ru)\n",
        "cities = [1, 2, 1207, 4, 5, 6, 7, 10, 13, 99, 72]  # Москва, СПб, Новосибирск и другие\n",
        "\n",
        "# Даты за последние 2–3 месяца\n",
        "date_to = datetime.now().strftime('%Y-%m-%d')\n",
        "date_from = (datetime.now() - timedelta(days=90)).strftime('%Y-%m-%d')\n",
        "\n",
        "# Папка для сохранения данных\n",
        "output_dir = '/content/parser_hh'\n",
        "\n",
        "if not os.path.exists(output_dir):\n",
        "    os.makedirs(output_dir)\n",
        "\n",
        "file_count = 0\n",
        "for city in cities:\n",
        "    for page in range(0, 20):  # 20 страниц по 100 записей = 2000 записей на город\n",
        "        data = getPages(page=page, area=city, date_from=date_from, date_to=date_to)\n",
        "        if data is None or 'items' not in data:\n",
        "            break\n",
        "\n",
        "        # Сохраняем данные\n",
        "        next_file_name = os.path.join(output_dir, f'{file_count}.json')\n",
        "        with open(next_file_name, mode='w', encoding='utf8') as file:\n",
        "            json.dump(data['items'], file, ensure_ascii=False, indent=3)\n",
        "\n",
        "        file_count += 1\n",
        "        print(f\"Сохранен файл: {next_file_name} (Город ID: {city}, Страница: {page})\")\n",
        "\n",
        "        # Проверяем, достигнута ли последняя страница\n",
        "        if data['pages'] - page <= 1:\n",
        "            break\n",
        "\n",
        "        time.sleep(0.25)\n",
        "\n",
        "print(f'Собрано {file_count * 100} записей!')\n"
      ]
    },
    {
      "cell_type": "code",
      "source": [
        "import os\n",
        "import json\n",
        "\n",
        "output_dir = '/content/parser_hh'\n",
        "all_data = []\n",
        "\n",
        "# Объединяем данные из всех файлов\n",
        "for file_name in os.listdir(output_dir):\n",
        "    file_path = os.path.join(output_dir, file_name)\n",
        "    with open(file_path, 'r', encoding='utf8') as file:\n",
        "        data = json.load(file)\n",
        "        all_data.extend(data)\n",
        "\n",
        "# Сохраняем объединенные данные\n",
        "with open('/content/all_vacancies.json', 'w', encoding='utf8') as file:\n",
        "    json.dump(all_data, file, ensure_ascii=False, indent=3)\n",
        "\n",
        "print(f'Объединено {len(all_data)} записей в all_vacancies.json')\n"
      ],
      "metadata": {
        "colab": {
          "base_uri": "https://localhost:8080/"
        },
        "id": "qnCiZLTTkgYX",
        "outputId": "08c08d38-4996-4769-c20e-a8c9f8744fa9"
      },
      "execution_count": 2,
      "outputs": [
        {
          "output_type": "stream",
          "name": "stdout",
          "text": [
            "Объединено 915 записей в all_vacancies.json\n"
          ]
        }
      ]
    },
    {
      "cell_type": "code",
      "source": [
        "from google.colab import files\n",
        "files.download('/content/all_vacancies.json')\n",
        "#Скачивание итогового датасета"
      ],
      "metadata": {
        "colab": {
          "base_uri": "https://localhost:8080/",
          "height": 17
        },
        "id": "3PSiPHNQk9gl",
        "outputId": "b2e57148-5eae-49ee-a55b-ec3c2506c186"
      },
      "execution_count": 3,
      "outputs": [
        {
          "output_type": "display_data",
          "data": {
            "text/plain": [
              "<IPython.core.display.Javascript object>"
            ],
            "application/javascript": [
              "\n",
              "    async function download(id, filename, size) {\n",
              "      if (!google.colab.kernel.accessAllowed) {\n",
              "        return;\n",
              "      }\n",
              "      const div = document.createElement('div');\n",
              "      const label = document.createElement('label');\n",
              "      label.textContent = `Downloading \"${filename}\": `;\n",
              "      div.appendChild(label);\n",
              "      const progress = document.createElement('progress');\n",
              "      progress.max = size;\n",
              "      div.appendChild(progress);\n",
              "      document.body.appendChild(div);\n",
              "\n",
              "      const buffers = [];\n",
              "      let downloaded = 0;\n",
              "\n",
              "      const channel = await google.colab.kernel.comms.open(id);\n",
              "      // Send a message to notify the kernel that we're ready.\n",
              "      channel.send({})\n",
              "\n",
              "      for await (const message of channel.messages) {\n",
              "        // Send a message to notify the kernel that we're ready.\n",
              "        channel.send({})\n",
              "        if (message.buffers) {\n",
              "          for (const buffer of message.buffers) {\n",
              "            buffers.push(buffer);\n",
              "            downloaded += buffer.byteLength;\n",
              "            progress.value = downloaded;\n",
              "          }\n",
              "        }\n",
              "      }\n",
              "      const blob = new Blob(buffers, {type: 'application/binary'});\n",
              "      const a = document.createElement('a');\n",
              "      a.href = window.URL.createObjectURL(blob);\n",
              "      a.download = filename;\n",
              "      div.appendChild(a);\n",
              "      a.click();\n",
              "      div.remove();\n",
              "    }\n",
              "  "
            ]
          },
          "metadata": {}
        },
        {
          "output_type": "display_data",
          "data": {
            "text/plain": [
              "<IPython.core.display.Javascript object>"
            ],
            "application/javascript": [
              "download(\"download_747f375a-b05c-4892-bbfa-8908ba1b92c2\", \"all_vacancies.json\", 3510444)"
            ]
          },
          "metadata": {}
        }
      ]
    }
  ]
}